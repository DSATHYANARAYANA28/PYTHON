{
 "cells": [
  {
   "cell_type": "raw",
   "id": "b5ac929e",
   "metadata": {},
   "source": []
  },
  {
   "cell_type": "markdown",
   "id": "6b91d813",
   "metadata": {},
   "source": [
    "# slice a string "
   ]
  },
  {
   "cell_type": "code",
   "execution_count": 1,
   "id": "835812af",
   "metadata": {},
   "outputs": [
    {
     "name": "stdout",
     "output_type": "stream",
     "text": [
      "Python is Easy !!!\n"
     ]
    }
   ],
   "source": [
    "string='Python is Easy !!!'\n",
    "print(string)\n",
    "\n"
   ]
  },
  {
   "cell_type": "code",
   "execution_count": 2,
   "id": "f4c7c84d",
   "metadata": {},
   "outputs": [
    {
     "name": "stdout",
     "output_type": "stream",
     "text": [
      "P\n"
     ]
    }
   ],
   "source": [
    "print(string[0])"
   ]
  },
  {
   "cell_type": "code",
   "execution_count": 31,
   "id": "bb508cbd",
   "metadata": {},
   "outputs": [
    {
     "name": "stdout",
     "output_type": "stream",
     "text": [
      "hon is\n"
     ]
    }
   ],
   "source": [
    "print(string[3:9])"
   ]
  },
  {
   "cell_type": "code",
   "execution_count": 32,
   "id": "c84ad2a1",
   "metadata": {},
   "outputs": [
    {
     "name": "stdout",
     "output_type": "stream",
     "text": [
      "on is Easy !!!\n"
     ]
    }
   ],
   "source": [
    "print(string[4:])"
   ]
  },
  {
   "cell_type": "code",
   "execution_count": 33,
   "id": "20bb8c66",
   "metadata": {},
   "outputs": [
    {
     "name": "stdout",
     "output_type": "stream",
     "text": [
      "!\n"
     ]
    }
   ],
   "source": [
    "print(string[-1])"
   ]
  },
  {
   "cell_type": "code",
   "execution_count": 34,
   "id": "01aca6a8",
   "metadata": {},
   "outputs": [
    {
     "name": "stdout",
     "output_type": "stream",
     "text": [
      "Pytho\n"
     ]
    }
   ],
   "source": [
    "print(string[:5])"
   ]
  },
  {
   "cell_type": "code",
   "execution_count": 35,
   "id": "2cd71bcc",
   "metadata": {},
   "outputs": [
    {
     "name": "stdout",
     "output_type": "stream",
     "text": [
      "Python is Easy !!!Python is Easy !!!\n"
     ]
    }
   ],
   "source": [
    "print(string * 2)"
   ]
  },
  {
   "cell_type": "code",
   "execution_count": 36,
   "id": "cfdbe5da",
   "metadata": {},
   "outputs": [
    {
     "name": "stdout",
     "output_type": "stream",
     "text": [
      "Python is Easy !!!ISN't IT?\n"
     ]
    }
   ],
   "source": [
    "print(string + \"ISN't IT?\")"
   ]
  },
  {
   "cell_type": "code",
   "execution_count": 41,
   "id": "2caf81af",
   "metadata": {},
   "outputs": [],
   "source": []
  },
  {
   "cell_type": "code",
   "execution_count": null,
   "id": "9fadab6c",
   "metadata": {},
   "outputs": [],
   "source": []
  },
  {
   "cell_type": "markdown",
   "id": "e4f70405",
   "metadata": {},
   "source": [
    "# Tuples\n",
    "A tuple is similarly to the list as it also consist of a number of values seperated by commas and enclosed within parantheses the main difference between lists and tuples is that you can be change the values in a list but not in a tuple. this means that while tuple is read-only data type . the list is not."
   ]
  },
  {
   "cell_type": "code",
   "execution_count": 43,
   "id": "00d7751d",
   "metadata": {},
   "outputs": [],
   "source": [
    "tup=('a','bc',78,1.23)"
   ]
  },
  {
   "cell_type": "code",
   "execution_count": 44,
   "id": "4ac1bd99",
   "metadata": {},
   "outputs": [],
   "source": [
    "tup2=('d',78)"
   ]
  },
  {
   "cell_type": "code",
   "execution_count": 45,
   "id": "c32c7025",
   "metadata": {},
   "outputs": [
    {
     "name": "stdout",
     "output_type": "stream",
     "text": [
      "('a', 'bc', 78, 1.23)\n"
     ]
    }
   ],
   "source": [
    "print(tup)"
   ]
  },
  {
   "cell_type": "code",
   "execution_count": 46,
   "id": "1324d7f8",
   "metadata": {},
   "outputs": [
    {
     "name": "stdout",
     "output_type": "stream",
     "text": [
      "('d', 78)\n"
     ]
    }
   ],
   "source": [
    "print(tup2)"
   ]
  },
  {
   "cell_type": "code",
   "execution_count": 47,
   "id": "8dd453ce",
   "metadata": {},
   "outputs": [
    {
     "name": "stdout",
     "output_type": "stream",
     "text": [
      "a\n"
     ]
    }
   ],
   "source": [
    "print(tup[0])"
   ]
  },
  {
   "cell_type": "code",
   "execution_count": 48,
   "id": "77a3668b",
   "metadata": {},
   "outputs": [
    {
     "name": "stdout",
     "output_type": "stream",
     "text": [
      "('bc', 78)\n"
     ]
    }
   ],
   "source": [
    "print(tup[1:3])"
   ]
  },
  {
   "cell_type": "code",
   "execution_count": 49,
   "id": "0033d164",
   "metadata": {},
   "outputs": [
    {
     "name": "stdout",
     "output_type": "stream",
     "text": [
      "1.23\n"
     ]
    }
   ],
   "source": [
    "print(tup[-1])"
   ]
  },
  {
   "cell_type": "code",
   "execution_count": 50,
   "id": "7f27f279",
   "metadata": {},
   "outputs": [
    {
     "name": "stdout",
     "output_type": "stream",
     "text": [
      "(78, 1.23)\n"
     ]
    }
   ],
   "source": [
    "print(tup[2:])"
   ]
  },
  {
   "cell_type": "code",
   "execution_count": 56,
   "id": "275ef4cd",
   "metadata": {},
   "outputs": [
    {
     "name": "stdout",
     "output_type": "stream",
     "text": [
      "('a', 'bc', 78, 1.23, 'a', 'bc', 78, 1.23)\n"
     ]
    }
   ],
   "source": [
    "print(tup*2)"
   ]
  },
  {
   "cell_type": "markdown",
   "id": "a9f37965",
   "metadata": {},
   "source": [
    "# how to get input from the user ?"
   ]
  },
  {
   "cell_type": "code",
   "execution_count": null,
   "id": "1abd396b",
   "metadata": {},
   "outputs": [],
   "source": [
    "name =  input(\"enter your name\")"
   ]
  },
  {
   "cell_type": "markdown",
   "id": "27b746ef",
   "metadata": {},
   "source": [
    "\n",
    "# Lists\n",
    "lists are the most versatile data type of python language. A Lists contains of items seperated by commas enclosed by square brackets([])\n",
    "lists are similar to Array . the only difference in an array is where array contains values of same data type, a list can have belonging to different types\n"
   ]
  },
  {
   "cell_type": "code",
   "execution_count": 57,
   "id": "6c9d1cce",
   "metadata": {},
   "outputs": [],
   "source": [
    "list=['a','bc',78,1.23]"
   ]
  },
  {
   "cell_type": "code",
   "execution_count": 58,
   "id": "59fa7289",
   "metadata": {},
   "outputs": [],
   "source": [
    "list2=['d',78]"
   ]
  },
  {
   "cell_type": "code",
   "execution_count": 59,
   "id": "6a97fed8",
   "metadata": {},
   "outputs": [
    {
     "name": "stdout",
     "output_type": "stream",
     "text": [
      "['a', 'bc', 78, 1.23]\n"
     ]
    }
   ],
   "source": [
    "print(list)"
   ]
  },
  {
   "cell_type": "code",
   "execution_count": 60,
   "id": "8303c776",
   "metadata": {},
   "outputs": [
    {
     "name": "stdout",
     "output_type": "stream",
     "text": [
      "a\n"
     ]
    }
   ],
   "source": [
    "print(list[0])"
   ]
  },
  {
   "cell_type": "code",
   "execution_count": 61,
   "id": "2bf776fb",
   "metadata": {},
   "outputs": [
    {
     "name": "stdout",
     "output_type": "stream",
     "text": [
      "['bc', 78]\n"
     ]
    }
   ],
   "source": [
    "print(list[1:3])"
   ]
  },
  {
   "cell_type": "code",
   "execution_count": 62,
   "id": "6f729ef8",
   "metadata": {},
   "outputs": [
    {
     "name": "stdout",
     "output_type": "stream",
     "text": [
      "[78, 1.23]\n"
     ]
    }
   ],
   "source": [
    "print(list[2:])"
   ]
  },
  {
   "cell_type": "code",
   "execution_count": 64,
   "id": "f216b7a5",
   "metadata": {},
   "outputs": [
    {
     "name": "stdout",
     "output_type": "stream",
     "text": [
      "['a', 'bc', 78, 1.23, 'a', 'bc', 78, 1.23]\n"
     ]
    }
   ],
   "source": [
    "print(list * 2)"
   ]
  },
  {
   "cell_type": "code",
   "execution_count": 65,
   "id": "6b46e0fb",
   "metadata": {},
   "outputs": [
    {
     "name": "stdout",
     "output_type": "stream",
     "text": [
      "['a', 'bc', 78, 1.23, 'd', 78]\n"
     ]
    }
   ],
   "source": [
    "print(list + list2)"
   ]
  },
  {
   "cell_type": "code",
   "execution_count": 4,
   "id": "55fef63b",
   "metadata": {},
   "outputs": [
    {
     "name": "stdout",
     "output_type": "stream",
     "text": [
      "['Shardul', 'Rohit', 'Rahul', 'Virat', 'Pant']\n"
     ]
    }
   ],
   "source": [
    "# Replace Values in a List using indexing\n",
    "\n",
    "# define list\n",
    "cricket = [ 'Hardik','Rohit', 'Rahul', 'Virat', 'Pant']\n",
    "\n",
    "# replace first value\n",
    "cricket[0] = 'Shardul'\n",
    "\n",
    "# print list\n",
    "print(cricket)"
   ]
  },
  {
   "cell_type": "markdown",
   "id": "be00ebc9",
   "metadata": {},
   "source": [
    "# Dictionary\n",
    "Python's dictionaries stores data in key-value pairs. the key values are usually strings and values can be of any data types . the key value pairs are enclosed withcurly braces({])"
   ]
  },
  {
   "cell_type": "code",
   "execution_count": 69,
   "id": "1dc97162",
   "metadata": {},
   "outputs": [],
   "source": [
    "dict = {\"item\":\"chocolate\",\"price\":100}"
   ]
  },
  {
   "cell_type": "code",
   "execution_count": 70,
   "id": "fd17a928",
   "metadata": {},
   "outputs": [
    {
     "data": {
      "text/plain": [
       "{'item': 'chocolate', 'price': 100}"
      ]
     },
     "execution_count": 70,
     "metadata": {},
     "output_type": "execute_result"
    }
   ],
   "source": [
    "dict"
   ]
  },
  {
   "cell_type": "code",
   "execution_count": 71,
   "id": "c3707e75",
   "metadata": {},
   "outputs": [
    {
     "name": "stdout",
     "output_type": "stream",
     "text": [
      "chocolate\n"
     ]
    }
   ],
   "source": [
    "print(dict[\"item\"])"
   ]
  },
  {
   "cell_type": "code",
   "execution_count": 72,
   "id": "b9c90d9a",
   "metadata": {},
   "outputs": [
    {
     "name": "stdout",
     "output_type": "stream",
     "text": [
      "100\n"
     ]
    }
   ],
   "source": [
    "print(dict[\"price\"])"
   ]
  },
  {
   "cell_type": "code",
   "execution_count": null,
   "id": "1e785b2b",
   "metadata": {},
   "outputs": [],
   "source": [
    "# Get the length and width from the user\n",
    "length = float(input(\"Enter the length of the rectangle: \"))\n",
    "width = float(input(\"Enter the width of the rectangle: \"))\n",
    "\n",
    "# Calculate the area\n",
    "area = length * width\n",
    "\n",
    "# Print the area\n",
    "print(\"The area of the rectangle is:\", area)\n"
   ]
  },
  {
   "cell_type": "code",
   "execution_count": 6,
   "id": "093bd82e",
   "metadata": {},
   "outputs": [
    {
     "name": "stdout",
     "output_type": "stream",
     "text": [
      "The area of the rectangle is: 150\n"
     ]
    }
   ],
   "source": [
    "# lets assign the values to the variables\n",
    "length = 10\n",
    "width = 15\n",
    "\n",
    "# Calculate the area\n",
    "area = length * width\n",
    "\n",
    "# Print the area\n",
    "print(\"The area of the rectangle is:\", area)\n"
   ]
  },
  {
   "cell_type": "code",
   "execution_count": null,
   "id": "3abbca4e",
   "metadata": {},
   "outputs": [],
   "source": [
    "# Get the length, width and height from the user\n",
    "length = float(input(\"Enter the length of the cuboid: \"))\n",
    "width = float(input(\"Enter the width of the cuboid: \"))\n",
    "height = float(input(\"Enter the height of the cuboid: \"))\n",
    "\n",
    "# Calculate the surface area\n",
    "surface_area = 2 * (length * width + width * height + length * height)\n",
    "\n",
    "# Print the surface area\n",
    "print(\"The surface area of the cuboid is:\", surface_area)\n"
   ]
  },
  {
   "cell_type": "code",
   "execution_count": 14,
   "id": "b2030b52",
   "metadata": {},
   "outputs": [
    {
     "name": "stdout",
     "output_type": "stream",
     "text": [
      "The surface area of the cuboid is: 126\n"
     ]
    }
   ],
   "source": [
    "# Get the length, width and height from the user\n",
    "length = 3\n",
    "width = 5\n",
    "height = 6\n",
    "\n",
    "# Calculate the surface area\n",
    "surface_area = 2 * (length * width + width * height + length * height)\n",
    "\n",
    "# Print the surface area\n",
    "print(\"The surface area of the cuboid is:\", surface_area)\n"
   ]
  },
  {
   "cell_type": "code",
   "execution_count": null,
   "id": "43682bfc",
   "metadata": {},
   "outputs": [],
   "source": [
    "# Define pi (optional, but improves accuracy)\n",
    "pi = 3.14159  # You can use math.pi from the math library for more precision\n",
    "\n",
    "# Get the radius from the user\n",
    "radius = float(input(\"Enter the radius of the circle: \"))\n",
    "\n",
    "# Calculate the area\n",
    "area = pi * radius * radius\n",
    "\n",
    "# Print the area\n",
    "print(\"The area of the circle is:\", area)\n"
   ]
  },
  {
   "cell_type": "code",
   "execution_count": 1,
   "id": "a661dcad",
   "metadata": {},
   "outputs": [
    {
     "name": "stdout",
     "output_type": "stream",
     "text": [
      "The area of the circle is: 50.26544\n"
     ]
    }
   ],
   "source": [
    "pi = 3.14159  \n",
    "\n",
    "\n",
    "radius = 4\n",
    "\n",
    "# Calculate the area\n",
    "area = pi * radius * radius\n",
    "\n",
    "# Print the area\n",
    "print(\"The area of the circle is:\", area)\n"
   ]
  },
  {
   "cell_type": "code",
   "execution_count": null,
   "id": "aac47784",
   "metadata": {},
   "outputs": [],
   "source": [
    "# Define pi (optional, but improves accuracy)\n",
    "pi = 3.14159  # You can use math.pi from the math library for more precision\n",
    "\n",
    "# Get the radius from the user\n",
    "radius = float(input(\"Enter the radius of the sphere: \"))\n",
    "\n",
    "# Calculate the surface area\n",
    "surface_area = 4 * pi * radius * radius\n",
    "\n",
    "# Print the surface area\n",
    "print(\"The surface area of the sphere is:\", surface_area)\n"
   ]
  },
  {
   "cell_type": "code",
   "execution_count": 2,
   "id": "3dc14be6",
   "metadata": {},
   "outputs": [
    {
     "name": "stdout",
     "output_type": "stream",
     "text": [
      "The surface area of the sphere is: 804.24704\n"
     ]
    }
   ],
   "source": [
    "\n",
    "pi = 3.14159  \n",
    "radius = 8\n",
    "\n",
    "surface_area = 4 * pi * radius * radius\n",
    "\n",
    "\n",
    "print(\"The surface area of the sphere is:\", surface_area)\n"
   ]
  },
  {
   "cell_type": "code",
   "execution_count": null,
   "id": "1471a06f",
   "metadata": {},
   "outputs": [],
   "source": []
  },
  {
   "cell_type": "code",
   "execution_count": null,
   "id": "01022bbc",
   "metadata": {},
   "outputs": [],
   "source": []
  },
  {
   "cell_type": "code",
   "execution_count": null,
   "id": "6bdc5ef7",
   "metadata": {},
   "outputs": [],
   "source": []
  }
 ],
 "metadata": {
  "kernelspec": {
   "display_name": "Python 3 (ipykernel)",
   "language": "python",
   "name": "python3"
  },
  "language_info": {
   "codemirror_mode": {
    "name": "ipython",
    "version": 3
   },
   "file_extension": ".py",
   "mimetype": "text/x-python",
   "name": "python",
   "nbconvert_exporter": "python",
   "pygments_lexer": "ipython3",
   "version": "3.9.12"
  }
 },
 "nbformat": 4,
 "nbformat_minor": 5
}
