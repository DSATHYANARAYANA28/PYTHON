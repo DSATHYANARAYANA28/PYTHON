{
 "cells": [
  {
   "cell_type": "markdown",
   "id": "62087c1e",
   "metadata": {},
   "source": [
    "pyhton DATA structure and boolean\n",
    "boolean \n",
    "boolean and logical operators\n",
    "lists\n",
    "comparison operators\n",
    "dictionaries\n",
    "tuple\n",
    "sets"
   ]
  },
  {
   "cell_type": "code",
   "execution_count": 2,
   "id": "542df9ff",
   "metadata": {},
   "outputs": [],
   "source": [
    "#Boolean are two constant they are True and false"
   ]
  },
  {
   "cell_type": "code",
   "execution_count": 3,
   "id": "61f0d749",
   "metadata": {},
   "outputs": [
    {
     "data": {
      "text/plain": [
       "False"
      ]
     },
     "execution_count": 3,
     "metadata": {},
     "output_type": "execute_result"
    }
   ],
   "source": [
    "bool()"
   ]
  },
  {
   "cell_type": "code",
   "execution_count": 4,
   "id": "b60eb62b",
   "metadata": {},
   "outputs": [
    {
     "data": {
      "text/plain": [
       "True"
      ]
     },
     "execution_count": 4,
     "metadata": {},
     "output_type": "execute_result"
    }
   ],
   "source": [
    "True"
   ]
  },
  {
   "cell_type": "code",
   "execution_count": 5,
   "id": "3bdabd27",
   "metadata": {},
   "outputs": [
    {
     "name": "stdout",
     "output_type": "stream",
     "text": [
      "True False\n"
     ]
    }
   ],
   "source": [
    "print(True,False)"
   ]
  },
  {
   "cell_type": "code",
   "execution_count": 7,
   "id": "7c97dda5",
   "metadata": {},
   "outputs": [
    {
     "data": {
      "text/plain": [
       "bool"
      ]
     },
     "execution_count": 7,
     "metadata": {},
     "output_type": "execute_result"
    }
   ],
   "source": [
    "type(True)"
   ]
  },
  {
   "cell_type": "code",
   "execution_count": 15,
   "id": "a62d3aa6",
   "metadata": {},
   "outputs": [],
   "source": [
    "my_str=\"Sathyanarayana\""
   ]
  },
  {
   "cell_type": "code",
   "execution_count": 16,
   "id": "7f7a9d54",
   "metadata": {},
   "outputs": [
    {
     "data": {
      "text/plain": [
       "True"
      ]
     },
     "execution_count": 16,
     "metadata": {},
     "output_type": "execute_result"
    }
   ],
   "source": [
    "my_str.isalnum()"
   ]
  },
  {
   "cell_type": "code",
   "execution_count": 14,
   "id": "9542dc25",
   "metadata": {},
   "outputs": [
    {
     "name": "stdout",
     "output_type": "stream",
     "text": [
      "True\n",
      "True\n",
      "False\n",
      "True\n",
      "False\n",
      "False\n",
      "False\n",
      "True\n",
      "True\n"
     ]
    }
   ],
   "source": [
    "print(my_str.isalnum()) #check if all characters are number\n",
    "print(my_str.isalpha()) #check if all characters are string and alphabetic\n",
    "print(my_str.isdigit()) #test if string contains digit\n",
    "print(my_str.istitle()) #test if string contains titile words\n",
    "print(my_str.isupper()) #test if string contains upper case words\n",
    "print(my_str.islower()) #test if string contains lower case words\n",
    "print(my_str.isspace()) #test if string contains spaces\n",
    "print(my_str.endswith('a')) #test if strings endswith \"a\"\n",
    "print(my_str.startswith('S')) #test if strings starts ith \"s\""
   ]
  },
  {
   "cell_type": "code",
   "execution_count": 17,
   "id": "f48ce7f5",
   "metadata": {},
   "outputs": [
    {
     "data": {
      "text/plain": [
       "True"
      ]
     },
     "execution_count": 17,
     "metadata": {},
     "output_type": "execute_result"
    }
   ],
   "source": [
    " True and True"
   ]
  },
  {
   "cell_type": "code",
   "execution_count": 18,
   "id": "3afd75aa",
   "metadata": {},
   "outputs": [
    {
     "data": {
      "text/plain": [
       "False"
      ]
     },
     "execution_count": 18,
     "metadata": {},
     "output_type": "execute_result"
    }
   ],
   "source": [
    "True and False"
   ]
  },
  {
   "cell_type": "code",
   "execution_count": 19,
   "id": "abf0ec98",
   "metadata": {},
   "outputs": [
    {
     "data": {
      "text/plain": [
       "True"
      ]
     },
     "execution_count": 19,
     "metadata": {},
     "output_type": "execute_result"
    }
   ],
   "source": [
    "True or False"
   ]
  },
  {
   "cell_type": "code",
   "execution_count": 20,
   "id": "c29ca688",
   "metadata": {},
   "outputs": [
    {
     "data": {
      "text/plain": [
       "False"
      ]
     },
     "execution_count": 20,
     "metadata": {},
     "output_type": "execute_result"
    }
   ],
   "source": [
    "False or False"
   ]
  },
  {
   "cell_type": "code",
   "execution_count": 21,
   "id": "020f063f",
   "metadata": {},
   "outputs": [],
   "source": [
    "myexample_str=\"sathya\"\n",
    "my_str=\"narayna\""
   ]
  },
  {
   "cell_type": "code",
   "execution_count": 22,
   "id": "74db0b16",
   "metadata": {},
   "outputs": [
    {
     "data": {
      "text/plain": [
       "True"
      ]
     },
     "execution_count": 22,
     "metadata": {},
     "output_type": "execute_result"
    }
   ],
   "source": [
    "myexample_str.isalpha()or my_str.isalnum()"
   ]
  },
  {
   "cell_type": "code",
   "execution_count": 23,
   "id": "febd5a66",
   "metadata": {},
   "outputs": [],
   "source": [
    "import numpy as np"
   ]
  },
  {
   "cell_type": "code",
   "execution_count": 24,
   "id": "6a317632",
   "metadata": {},
   "outputs": [],
   "source": [
    "list=[]\n",
    "list=np.random.randint(10,100,10)"
   ]
  },
  {
   "cell_type": "code",
   "execution_count": 25,
   "id": "7e806c5a",
   "metadata": {},
   "outputs": [
    {
     "data": {
      "text/plain": [
       "array([16, 62, 54, 20, 80, 56, 72, 38, 26, 62])"
      ]
     },
     "execution_count": 25,
     "metadata": {},
     "output_type": "execute_result"
    }
   ],
   "source": [
    "list"
   ]
  },
  {
   "cell_type": "code",
   "execution_count": 27,
   "id": "a3951cb3",
   "metadata": {},
   "outputs": [],
   "source": [
    "list=[16, 62, 54, 20, 80, 56, 72, 38, 26, 62]"
   ]
  },
  {
   "cell_type": "code",
   "execution_count": 28,
   "id": "8ee71d53",
   "metadata": {},
   "outputs": [
    {
     "data": {
      "text/plain": [
       "10"
      ]
     },
     "execution_count": 28,
     "metadata": {},
     "output_type": "execute_result"
    }
   ],
   "source": [
    "len(list)"
   ]
  },
  {
   "cell_type": "code",
   "execution_count": 29,
   "id": "6e9d3dea",
   "metadata": {},
   "outputs": [],
   "source": [
    "list.append(\"sathya\")"
   ]
  },
  {
   "cell_type": "code",
   "execution_count": 30,
   "id": "b3956b76",
   "metadata": {},
   "outputs": [
    {
     "data": {
      "text/plain": [
       "[16, 62, 54, 20, 80, 56, 72, 38, 26, 62, 'sathya']"
      ]
     },
     "execution_count": 30,
     "metadata": {},
     "output_type": "execute_result"
    }
   ],
   "source": [
    "list"
   ]
  },
  {
   "cell_type": "code",
   "execution_count": 31,
   "id": "e375c097",
   "metadata": {},
   "outputs": [
    {
     "data": {
      "text/plain": [
       "54"
      ]
     },
     "execution_count": 31,
     "metadata": {},
     "output_type": "execute_result"
    }
   ],
   "source": [
    "#indexing in list\n",
    "list[2]"
   ]
  },
  {
   "cell_type": "code",
   "execution_count": 32,
   "id": "783280c2",
   "metadata": {},
   "outputs": [
    {
     "data": {
      "text/plain": [
       "[16, 62, 54, 20, 80, 56, 72, 38, 26, 62, 'sathya']"
      ]
     },
     "execution_count": 32,
     "metadata": {},
     "output_type": "execute_result"
    }
   ],
   "source": [
    "list[:]"
   ]
  },
  {
   "cell_type": "code",
   "execution_count": 33,
   "id": "9026b4f3",
   "metadata": {},
   "outputs": [
    {
     "data": {
      "text/plain": [
       "[62, 54, 20, 80, 56, 72, 38, 26, 62, 'sathya']"
      ]
     },
     "execution_count": 33,
     "metadata": {},
     "output_type": "execute_result"
    }
   ],
   "source": [
    "list[1:]"
   ]
  },
  {
   "cell_type": "code",
   "execution_count": 34,
   "id": "7d093841",
   "metadata": {},
   "outputs": [
    {
     "data": {
      "text/plain": [
       "[20, 80, 56]"
      ]
     },
     "execution_count": 34,
     "metadata": {},
     "output_type": "execute_result"
    }
   ],
   "source": [
    "list[3:6]"
   ]
  },
  {
   "cell_type": "code",
   "execution_count": 42,
   "id": "b3435aea",
   "metadata": {},
   "outputs": [
    {
     "data": {
      "text/plain": [
       "[20, 62]"
      ]
     },
     "execution_count": 42,
     "metadata": {},
     "output_type": "execute_result"
    }
   ],
   "source": [
    "list[3::6] #20 AND  60"
   ]
  },
  {
   "cell_type": "code",
   "execution_count": 43,
   "id": "77431b0f",
   "metadata": {},
   "outputs": [],
   "source": [
    "list.append(['koushali','arjun']) #to create nested list"
   ]
  },
  {
   "cell_type": "code",
   "execution_count": 44,
   "id": "8f97d05f",
   "metadata": {},
   "outputs": [
    {
     "data": {
      "text/plain": [
       "[16, 62, 54, 20, 80, 56, 72, 38, 26, 62, 'sathya', ['koushali', 'arjun']]"
      ]
     },
     "execution_count": 44,
     "metadata": {},
     "output_type": "execute_result"
    }
   ],
   "source": [
    "list"
   ]
  },
  {
   "cell_type": "code",
   "execution_count": 45,
   "id": "b50e3ea6",
   "metadata": {},
   "outputs": [],
   "source": [
    "list.insert(2,\"HI\")"
   ]
  },
  {
   "cell_type": "code",
   "execution_count": 46,
   "id": "1c584b80",
   "metadata": {},
   "outputs": [
    {
     "data": {
      "text/plain": [
       "[16, 62, 'HI', 54, 20, 80, 56, 72, 38, 26, 62, 'sathya', ['koushali', 'arjun']]"
      ]
     },
     "execution_count": 46,
     "metadata": {},
     "output_type": "execute_result"
    }
   ],
   "source": [
    "list"
   ]
  },
  {
   "cell_type": "code",
   "execution_count": 48,
   "id": "02f07b8e",
   "metadata": {},
   "outputs": [],
   "source": [
    "lst=[16, 62, 'HI', 54, 20, 80, 56, 72, 38, 26]"
   ]
  },
  {
   "cell_type": "code",
   "execution_count": 49,
   "id": "3462c898",
   "metadata": {},
   "outputs": [],
   "source": [
    "lst.extend([\"sathya\",\"narayna\"])"
   ]
  },
  {
   "cell_type": "code",
   "execution_count": 50,
   "id": "18d45e89",
   "metadata": {},
   "outputs": [
    {
     "data": {
      "text/plain": [
       "[16, 62, 'HI', 54, 20, 80, 56, 72, 38, 26, 'sathya', 'narayna']"
      ]
     },
     "execution_count": 50,
     "metadata": {},
     "output_type": "execute_result"
    }
   ],
   "source": [
    "lst"
   ]
  },
  {
   "cell_type": "code",
   "execution_count": 52,
   "id": "f72a114a",
   "metadata": {},
   "outputs": [],
   "source": [
    "ast=[1,2,3,4,5,6,]\n"
   ]
  },
  {
   "cell_type": "code",
   "execution_count": 53,
   "id": "8157229c",
   "metadata": {},
   "outputs": [
    {
     "data": {
      "text/plain": [
       "21"
      ]
     },
     "execution_count": 53,
     "metadata": {},
     "output_type": "execute_result"
    }
   ],
   "source": [
    "sum(ast)"
   ]
  },
  {
   "cell_type": "code",
   "execution_count": 54,
   "id": "ff4c2738",
   "metadata": {},
   "outputs": [
    {
     "data": {
      "text/plain": [
       "6"
      ]
     },
     "execution_count": 54,
     "metadata": {},
     "output_type": "execute_result"
    }
   ],
   "source": [
    "ast.pop()"
   ]
  },
  {
   "cell_type": "code",
   "execution_count": 55,
   "id": "c4419c8c",
   "metadata": {},
   "outputs": [
    {
     "data": {
      "text/plain": [
       "[1, 2, 3, 4, 5]"
      ]
     },
     "execution_count": 55,
     "metadata": {},
     "output_type": "execute_result"
    }
   ],
   "source": [
    "ast"
   ]
  },
  {
   "cell_type": "code",
   "execution_count": 56,
   "id": "7b2898c2",
   "metadata": {},
   "outputs": [
    {
     "data": {
      "text/plain": [
       "2"
      ]
     },
     "execution_count": 56,
     "metadata": {},
     "output_type": "execute_result"
    }
   ],
   "source": [
    "ast.pop(1)"
   ]
  },
  {
   "cell_type": "code",
   "execution_count": 57,
   "id": "3d0232eb",
   "metadata": {},
   "outputs": [
    {
     "data": {
      "text/plain": [
       "[1, 3, 4, 5]"
      ]
     },
     "execution_count": 57,
     "metadata": {},
     "output_type": "execute_result"
    }
   ],
   "source": [
    "ast"
   ]
  },
  {
   "cell_type": "code",
   "execution_count": 58,
   "id": "c160b96c",
   "metadata": {},
   "outputs": [],
   "source": [
    "ast=[1,2,3,4,5,6,]\n"
   ]
  },
  {
   "cell_type": "code",
   "execution_count": 59,
   "id": "6155b053",
   "metadata": {},
   "outputs": [
    {
     "data": {
      "text/plain": [
       "1"
      ]
     },
     "execution_count": 59,
     "metadata": {},
     "output_type": "execute_result"
    }
   ],
   "source": [
    "ast.count(1)"
   ]
  },
  {
   "cell_type": "code",
   "execution_count": 60,
   "id": "c0223d82",
   "metadata": {},
   "outputs": [
    {
     "data": {
      "text/plain": [
       "[1, 2, 3, 4, 5, 6]"
      ]
     },
     "execution_count": 60,
     "metadata": {},
     "output_type": "execute_result"
    }
   ],
   "source": [
    "ast"
   ]
  },
  {
   "cell_type": "code",
   "execution_count": 61,
   "id": "5b85acb7",
   "metadata": {},
   "outputs": [
    {
     "data": {
      "text/plain": [
       "1"
      ]
     },
     "execution_count": 61,
     "metadata": {},
     "output_type": "execute_result"
    }
   ],
   "source": [
    " min(ast)"
   ]
  },
  {
   "cell_type": "code",
   "execution_count": 62,
   "id": "04d7f9da",
   "metadata": {},
   "outputs": [
    {
     "data": {
      "text/plain": [
       "6"
      ]
     },
     "execution_count": 62,
     "metadata": {},
     "output_type": "execute_result"
    }
   ],
   "source": [
    "max(ast)"
   ]
  },
  {
   "cell_type": "code",
   "execution_count": 65,
   "id": "e388b6c5",
   "metadata": {},
   "outputs": [
    {
     "data": {
      "text/plain": [
       "6"
      ]
     },
     "execution_count": 65,
     "metadata": {},
     "output_type": "execute_result"
    }
   ],
   "source": [
    "max(ast)"
   ]
  },
  {
   "cell_type": "code",
   "execution_count": 69,
   "id": "723e59cf",
   "metadata": {},
   "outputs": [
    {
     "data": {
      "text/plain": [
       "[1, 2, 3, 4, 5, 6, 1, 2, 3, 4, 5, 6]"
      ]
     },
     "execution_count": 69,
     "metadata": {},
     "output_type": "execute_result"
    }
   ],
   "source": [
    "ast*2"
   ]
  },
  {
   "cell_type": "code",
   "execution_count": 70,
   "id": "7f7149a7",
   "metadata": {},
   "outputs": [
    {
     "name": "stdout",
     "output_type": "stream",
     "text": [
      "{'hello', 'world', 'hitman'}\n"
     ]
    }
   ],
   "source": [
    "#set\n",
    "set={\"hello\",\"world\",'hitman'}\n",
    "print(set)"
   ]
  },
  {
   "cell_type": "code",
   "execution_count": 71,
   "id": "662f0f24",
   "metadata": {},
   "outputs": [
    {
     "data": {
      "text/plain": [
       "set"
      ]
     },
     "execution_count": 71,
     "metadata": {},
     "output_type": "execute_result"
    }
   ],
   "source": [
    "type(set)"
   ]
  },
  {
   "cell_type": "code",
   "execution_count": 72,
   "id": "44de694d",
   "metadata": {},
   "outputs": [],
   "source": [
    "set.add('hulk')"
   ]
  },
  {
   "cell_type": "code",
   "execution_count": 73,
   "id": "68e4ca33",
   "metadata": {},
   "outputs": [
    {
     "data": {
      "text/plain": [
       "{'hello', 'hitman', 'hulk', 'world'}"
      ]
     },
     "execution_count": 73,
     "metadata": {},
     "output_type": "execute_result"
    }
   ],
   "source": [
    "set"
   ]
  },
  {
   "cell_type": "code",
   "execution_count": 74,
   "id": "e818159e",
   "metadata": {},
   "outputs": [],
   "source": [
    "set_var={1,2,3,4,3}"
   ]
  },
  {
   "cell_type": "code",
   "execution_count": 76,
   "id": "6e9d2a27",
   "metadata": {},
   "outputs": [
    {
     "data": {
      "text/plain": [
       "{1, 2, 3, 4}"
      ]
     },
     "execution_count": 76,
     "metadata": {},
     "output_type": "execute_result"
    }
   ],
   "source": [
    "set_var #no duplicate element"
   ]
  },
  {
   "cell_type": "markdown",
   "id": "7c05a31d",
   "metadata": {},
   "source": [
    "Dictionaries  is a collection which is unordered, changeable and indexed. in python dictionaries are written with curly brackets, and they have keys and values "
   ]
  },
  {
   "cell_type": "code",
   "execution_count": 82,
   "id": "0914a4c2",
   "metadata": {},
   "outputs": [],
   "source": [
    "car1_model={'mercedes':1960}\n",
    "car2_model={'audi':19670}\n",
    "car3_model={'Ambassador':1980}\n",
    "\n",
    "car_type={'car1':car1_model,'car2':car2_model,'car3':car3_model}"
   ]
  },
  {
   "cell_type": "code",
   "execution_count": 83,
   "id": "cbcb83ed",
   "metadata": {},
   "outputs": [
    {
     "name": "stdout",
     "output_type": "stream",
     "text": [
      "{'car1': {'mercedes': 1960}, 'car2': {'audi': 19670}, 'car3': {'Ambassador': 1980}}\n"
     ]
    }
   ],
   "source": [
    "print(car_type)"
   ]
  },
  {
   "cell_type": "code",
   "execution_count": 84,
   "id": "e8ec912a",
   "metadata": {},
   "outputs": [
    {
     "name": "stdout",
     "output_type": "stream",
     "text": [
      "{'mercedes': 1960}\n"
     ]
    }
   ],
   "source": [
    "print(car_type['car1'])"
   ]
  },
  {
   "cell_type": "code",
   "execution_count": 85,
   "id": "9dd65086",
   "metadata": {},
   "outputs": [
    {
     "name": "stdout",
     "output_type": "stream",
     "text": [
      "1960\n"
     ]
    }
   ],
   "source": [
    "print(car_type['car1']['mercedes'])"
   ]
  },
  {
   "cell_type": "markdown",
   "id": "c76be3cd",
   "metadata": {},
   "source": [
    "Tuple is not mutable "
   ]
  },
  {
   "cell_type": "code",
   "execution_count": null,
   "id": "d6861c82",
   "metadata": {},
   "outputs": [],
   "source": []
  }
 ],
 "metadata": {
  "kernelspec": {
   "display_name": "Python 3 (ipykernel)",
   "language": "python",
   "name": "python3"
  },
  "language_info": {
   "codemirror_mode": {
    "name": "ipython",
    "version": 3
   },
   "file_extension": ".py",
   "mimetype": "text/x-python",
   "name": "python",
   "nbconvert_exporter": "python",
   "pygments_lexer": "ipython3",
   "version": "3.9.12"
  }
 },
 "nbformat": 4,
 "nbformat_minor": 5
}
