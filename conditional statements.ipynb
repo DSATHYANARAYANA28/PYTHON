{
 "cells": [
  {
   "cell_type": "markdown",
   "id": "be92074a-447f-4ec4-9808-626b67f0536b",
   "metadata": {},
   "source": [
    "# 1. if the employee's salary is less than 10,000 then 12 % bonus given\n",
    "# if the year of exp is less than 2 - 2 % bonus\n",
    "# more than 5 - 13 %"
   ]
  },
  {
   "cell_type": "code",
   "execution_count": 5,
   "id": "c025b3fb-4d7d-4703-9664-48680c82772d",
   "metadata": {},
   "outputs": [
    {
     "name": "stdin",
     "output_type": "stream",
     "text": [
      "enter the salary 9000\n",
      "Enter the years you worked: 6\n"
     ]
    },
    {
     "name": "stdout",
     "output_type": "stream",
     "text": [
      "The bonus is: 1080.0\n",
      "Total salary is: 10080.0\n"
     ]
    }
   ],
   "source": [
    "\n",
    "sal=int(input(\"enter the salary\"))\n",
    "exp=int(input(\"Enter the years you worked:\"))\n",
    "if(sal<10000):\n",
    "    bonus=0.12*sal\n",
    "    print(\"The bonus is:\",bonus)\n",
    "    print(\"Total salary is:\",sal+bonus)\n",
    "elif(sal>10000 and exp<2):\n",
    "    bonus=0.02*sal\n",
    "    print(\"The bonus is:\",bonus)\n",
    "    print(\"The salary is:\",sal+bonus)\n",
    "elif(exp>5):\n",
    "    bonus=0.13*sal\n",
    "    print(\"The bonus is:\",bonus)\n",
    "    print(\"The salary is:\",sal+bonus)\n",
    "else:\n",
    "    print(\"no bonus\")"
   ]
  },
  {
   "cell_type": "markdown",
   "id": "d4957ac5-5dc0-4035-99ae-1ba45fdf93ec",
   "metadata": {},
   "source": [
    "# 2. manufacturing company:\n",
    "# The user can choose any one of the fields like Models, Colors, Cost, and Location.\n",
    "# display various models of bikes available\n",
    "# display all the available colours for the option color\n",
    "# display the cost of the bike including tax for the price\n",
    "# display showroom of the bike for selected location"
   ]
  },
  {
   "cell_type": "code",
   "execution_count": 27,
   "id": "89cd2eee-98e6-47cd-9325-5d89d377f850",
   "metadata": {},
   "outputs": [
    {
     "name": "stdout",
     "output_type": "stream",
     "text": [
      "Welcome\n",
      "\n",
      "Choose your choice and get to know all the information about it\n",
      "\n",
      "Type of Vehicle:\n",
      "\n"
     ]
    },
    {
     "name": "stdin",
     "output_type": "stream",
     "text": [
      "1. Cars \n",
      "2.Bikes\n",
      "  1\n",
      "1. Baleno\n",
      " 2.Breeza\n",
      " 3.Creta\n",
      " 3\n"
     ]
    },
    {
     "name": "stdout",
     "output_type": "stream",
     "text": [
      "Available colors:\n",
      "\n",
      "Blue, Black,red,orange\n",
      "\n",
      "Availability in showroom:\n",
      "\n",
      "Velachery,Adayar,Chrompet\n",
      "On road cost starts from 10L\n"
     ]
    }
   ],
   "source": [
    "# way 1\n",
    "print(\"Welcome\\n\")\n",
    "print(\"Choose your choice and get to know all the information about it\\n\")\n",
    "print(\"Type of Vehicle:\\n\")\n",
    "sel=int(input(\"1. Cars \\n2.Bikes\\n \"))\n",
    "if(sel==1):\n",
    "    selec=int(input(\"1. Baleno\\n 2.Breeza\\n 3.Creta\\n\"))\n",
    "    if(selec==1):\n",
    "        print(\"Available colors:\\n\")\n",
    "        print(\"Blue, Black\\n\")\n",
    "        print(\"Availability in showroom:\\n\")\n",
    "        print(\"T.nagar,Velachery,Porur\")\n",
    "        print(\"On road cost starts 8L\")\n",
    "\n",
    "    elif(selec==2):\n",
    "        print(\"Available colors:\\n\")\n",
    "        print(\"Blue, Black,red\\n\")\n",
    "        print(\"Availability in showroom:\\n\")\n",
    "        print(\"T.nagar,Velachery,kodambakam\")\n",
    "        print(\"On road cost starts from 8L to 13L\")\n",
    "    elif(selec==3):\n",
    "        print(\"Available colors:\\n\")\n",
    "        print(\"Blue, Black,red,orange\\n\")\n",
    "        print(\"Availability in showroom:\\n\")\n",
    "        print(\"Velachery,Adayar,Chrompet\")\n",
    "        print(\"On road cost starts from 10L\")\n",
    "    else:\n",
    "        print(\"Select from the menu\")\n",
    "elif(sel==2):\n",
    "    selec=int(input(\"1. DUKE125 \\n 2.DUKE200\\n 3.RC 390\\n\"))\n",
    "    if(selec==1):\n",
    "        print(\"Available colors:\\n\")\n",
    "        print(\"white, Black\\n\")\n",
    "        print(\"Availability in showroom:\\n\")\n",
    "        print(\"T.nagar,Velachery,Porur\")\n",
    "        print(\"On road cost starts from 2L\")\n",
    "    elif(selec==2):\n",
    "        print(\"Available colors:\\n\")\n",
    "        print(\"white, Black,red\\n\")\n",
    "        print(\"Availability in showroom:\\n\")\n",
    "        print(\"T.nagar,Velachery,kodambakam\")\n",
    "        print(\"On road cost starts from 1.8L\")\n",
    "    elif(selec==3):\n",
    "        print(\"Available colors:\\n\")\n",
    "        print(\"Blue, Black,red,orange\\n\")\n",
    "        print(\"Availability in showroom:\\n\")\n",
    "        print(\"Velachery,Adayar,Chrompet\")\n",
    "        print(\"On road cost starts from 2.3L\")\n",
    "    else:\n",
    "        print(\"Select from the menu\")\n",
    "else:\n",
    "    print(\"Select from the menu\")\n",
    "    print(\"Thank you for coming\")"
   ]
  },
  {
   "cell_type": "markdown",
   "id": "baac0970-de81-4e19-a0e4-4a6be61b2135",
   "metadata": {},
   "source": [
    "# EXAMPLE\n",
    "# Program for Check Shipping cost"
   ]
  },
  {
   "cell_type": "code",
   "execution_count": 58,
   "id": "40e5d2ff-d724-4b8a-869b-cdaaf7467a11",
   "metadata": {},
   "outputs": [
    {
     "name": "stdin",
     "output_type": "stream",
     "text": [
      "Enter the Weight of Your Parcel :  50.0\n",
      "Enter the Country name to which send Your Parcel :  USA\n"
     ]
    },
    {
     "name": "stdout",
     "output_type": "stream",
     "text": [
      "Shipping Cost is Rs.5200\n"
     ]
    }
   ],
   "source": [
    "total_weight = float(input(\"Enter the Weight of Your Parcel : \"))\n",
    "Country = str(input(\"Enter the Country name to which send Your Parcel : \"))\n",
    "if Country == \"USA\":\n",
    "    if total_weight <=50.0:\n",
    "        print(\"Shipping Cost is Rs.5200\")\n",
    "    elif total_weight<= 60.0:\n",
    "        print(\"shipping cost is Rs.7500\")\n",
    "        \n",
    "        "
   ]
  },
  {
   "cell_type": "code",
   "execution_count": 64,
   "id": "115b4fa1-3f5a-419d-972b-40e42415149d",
   "metadata": {},
   "outputs": [
    {
     "name": "stdin",
     "output_type": "stream",
     "text": [
      "Enter the Weight of Your Parcel :  60.0\n",
      "Enter the Country name to which send Your Parcel :  USA\n"
     ]
    },
    {
     "name": "stdout",
     "output_type": "stream",
     "text": [
      "Shipping Cost is $25\n"
     ]
    }
   ],
   "source": [
    "total = float(input(\"Enter the Weight of Your Parcel : \"))\n",
    "country = str(input(\"Enter the Country name to which send Your Parcel : \"))\n",
    "if country == \"USA\":\n",
    "    if total <= 50:\n",
    "        print(\"Shipping Cost is $50\")\n",
    "    elif ((total > 50) and (total <= 100)):\n",
    "        print(\"Shipping Cost is $25\")\n",
    "    elif ((total >100) and (total<= 150)):\n",
    "        print(\"Shipping Costs $5\")\n",
    "    else: print(\"Over Weight\")\n",
    "elif country == \"AUS\":\n",
    "    if total <= 50:\n",
    "        print(\"Shipping Cost is $58\")\n",
    "    elif ((total > 50) and (total <= 100)):\n",
    "        print(\"Shipping Cost is $29\")\n",
    "    elif ((total >100) and (total<= 150)):\n",
    "        print(\"Shipping Costs $12\")\n",
    "    else: \n",
    "        print(\"Over Weight\")\n",
    "else :\n",
    "    print(\"Services are available in Only USA and AUS \")"
   ]
  },
  {
   "cell_type": "markdown",
   "id": "225de455-f0d9-4c0c-9b9a-7a12d4b2c40c",
   "metadata": {},
   "source": [
    "# TERNARY OPERATION "
   ]
  },
  {
   "cell_type": "markdown",
   "id": "9da2a192-3d96-4005-b900-e68840b003ea",
   "metadata": {},
   "source": [
    "## Ternary operations (also known as conditional operators) are operator that evaluates something  based on a condition being  TRUE or FALSE"
   ]
  },
  {
   "cell_type": "markdown",
   "id": "b93c72b1-2e40-4474-8695-e463b8545696",
   "metadata": {},
   "source": [
    "## SYNTAX:\n",
    "## x if condition else y"
   ]
  },
  {
   "cell_type": "markdown",
   "id": "e2d9ece0-e074-453f-841f-9f2bcfa0ad7a",
   "metadata": {},
   "source": [
    "# value1 <-----returns if true----- if condtion else ------returns if false----->"
   ]
  },
  {
   "cell_type": "code",
   "execution_count": 7,
   "id": "1181bcd7-bc48-4ba5-943d-dfb61eaf5a07",
   "metadata": {},
   "outputs": [
    {
     "name": "stdin",
     "output_type": "stream",
     "text": [
      "enter a number: 4\n"
     ]
    },
    {
     "name": "stdout",
     "output_type": "stream",
     "text": [
      "is a even : 4\n"
     ]
    }
   ],
   "source": [
    "# without ternary operator\n",
    "\n",
    "num = int(input(\"enter a number:\"))\n",
    "\n",
    "if num % 2 == 0:\n",
    "    print(\"is a even :\",num)\n",
    "else :\n",
    "    print(\"not a even\")"
   ]
  },
  {
   "cell_type": "code",
   "execution_count": 11,
   "id": "56c18014-f533-4133-9f00-20ddd84bee11",
   "metadata": {},
   "outputs": [
    {
     "name": "stdin",
     "output_type": "stream",
     "text": [
      "enter a number: 3\n"
     ]
    },
    {
     "name": "stdout",
     "output_type": "stream",
     "text": [
      "the result is odd.\n"
     ]
    }
   ],
   "source": [
    "#with using ternary operator\n",
    "num = int(input(\"enter a number:\"))\n",
    "\n",
    "result = \"even\" if num % 2 == 0 else \"odd\"\n",
    "\n",
    "print(f\"the result is {result}.\")"
   ]
  },
  {
   "cell_type": "markdown",
   "id": "339c0ad4-9420-41e4-b732-0d4626924e38",
   "metadata": {},
   "source": [
    "The f-string formatting (f\"the result is {result}.\") is used to dynamically insert the value of the result variable into the output string."
   ]
  },
  {
   "cell_type": "code",
   "execution_count": 18,
   "id": "1c10ff1d-0053-4987-a263-0efc4d2b1cf4",
   "metadata": {},
   "outputs": [
    {
     "name": "stdin",
     "output_type": "stream",
     "text": [
      "enter your age: 18\n"
     ]
    },
    {
     "name": "stdout",
     "output_type": "stream",
     "text": [
      "You can vote\n"
     ]
    }
   ],
   "source": [
    "age = int(input(\"enter your age:\"))\n",
    "can_vote = \"You can vote\" if age >= 18 else \"You cannot vote\"\n",
    "print(can_vote)"
   ]
  },
  {
   "cell_type": "code",
   "execution_count": 23,
   "id": "4e7a234e-9382-4064-8fb6-04a47fed36e9",
   "metadata": {},
   "outputs": [
    {
     "name": "stdout",
     "output_type": "stream",
     "text": [
      "y is greater\n"
     ]
    }
   ],
   "source": [
    "x = 5\n",
    "y = 10\n",
    "result = \"x is greater\" if x > y else \"y is greater\"\n",
    "print(result)\n"
   ]
  },
  {
   "cell_type": "code",
   "execution_count": 25,
   "id": "dd38201b-2101-4095-8031-b6a726aad2eb",
   "metadata": {},
   "outputs": [
    {
     "name": "stdout",
     "output_type": "stream",
     "text": [
      "Excellent\n"
     ]
    }
   ],
   "source": [
    "grade = 95\n",
    "result = \"Excellent\" if grade >= 90 else \"Good\" if grade >= 80 else \"Average\"\n",
    "print(result)"
   ]
  },
  {
   "cell_type": "code",
   "execution_count": 27,
   "id": "036c20f4-f0fe-4c69-9937-6f2b5fb56c1e",
   "metadata": {},
   "outputs": [
    {
     "name": "stdout",
     "output_type": "stream",
     "text": [
      "List is empty\n"
     ]
    }
   ],
   "source": [
    "# Checking for empty lists:\n",
    "\n",
    "my_list = []\n",
    "result = \"List is empty\" if not my_list else \"List is not empty\"\n",
    "print(result)"
   ]
  },
  {
   "cell_type": "code",
   "execution_count": 31,
   "id": "62032614-056b-468b-b338-c031adc91bcb",
   "metadata": {},
   "outputs": [
    {
     "name": "stdout",
     "output_type": "stream",
     "text": [
      "[2, 4]\n",
      "[1, 3, 5]\n"
     ]
    }
   ],
   "source": [
    "# Ternary operator within a list comprehension:\n",
    "numbers = [1, 2, 3, 4, 5]\n",
    "even_numbers = [num for num in numbers if num % 2 == 0]\n",
    "odd_numbers = [num for num in numbers if num % 2 != 0]\n",
    "print(even_numbers)\n",
    "print(odd_numbers) "
   ]
  },
  {
   "cell_type": "code",
   "execution_count": null,
   "id": "4cd250a7-84d1-490e-9e3e-e2ee1873f063",
   "metadata": {},
   "outputs": [],
   "source": []
  }
 ],
 "metadata": {
  "kernelspec": {
   "display_name": "Python 3 (ipykernel)",
   "language": "python",
   "name": "python3"
  },
  "language_info": {
   "codemirror_mode": {
    "name": "ipython",
    "version": 3
   },
   "file_extension": ".py",
   "mimetype": "text/x-python",
   "name": "python",
   "nbconvert_exporter": "python",
   "pygments_lexer": "ipython3",
   "version": "3.9.12"
  }
 },
 "nbformat": 4,
 "nbformat_minor": 5
}
